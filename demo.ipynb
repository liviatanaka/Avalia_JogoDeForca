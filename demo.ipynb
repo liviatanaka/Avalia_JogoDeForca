{
 "cells": [
  {
   "cell_type": "code",
   "execution_count": 1,
   "metadata": {},
   "outputs": [],
   "source": [
    "# Importando bibliotecas #\n",
    "import random\n",
    "import pandas as pd\n",
    "import matplotlib.pyplot as plt"
   ]
  },
  {
   "attachments": {},
   "cell_type": "markdown",
   "metadata": {},
   "source": [
    "carregando arquivo com as palavras que serão utilizadas no jogo"
   ]
  },
  {
   "cell_type": "code",
   "execution_count": 2,
   "metadata": {},
   "outputs": [],
   "source": [
    "with open('br-sem-acentos.txt', 'r') as arquivo:\n",
    "    r = arquivo.read()\n",
    "    conteudo = str(r).lower().split('\\n')"
   ]
  },
  {
   "attachments": {},
   "cell_type": "markdown",
   "metadata": {},
   "source": [
    "## Classe JogoDeForca \n",
    "A classe cria um jogo de forca no qual sorteia a palavra que deverá ser adivinhada e permite o jogador chutar letras, caso o jogador erre uma letra ele perde uma vida. O jogador pode adivinhar a palavra apenas uma vez, se ele acertar, ele ganha, caso contrário ele perde. Zerar as suas vidas também resulta na derrota"
   ]
  },
  {
   "cell_type": "code",
   "execution_count": 3,
   "metadata": {},
   "outputs": [],
   "source": [
    "class JogoDeForca:\n",
    "    def __init__(self, conteudo):\n",
    "        '''Carrega o txt de palavras'''\n",
    "        self.content = conteudo\n",
    "        \n",
    "    \n",
    "    def novo_jogo(self, vidas=5):\n",
    "        '''Novo jogo com uma palavra aleatória e 5 vidas (padrão)'''\n",
    "        self.vidas = vidas\n",
    "        self.palavra = random.choice(self.content)\n",
    "        self.finalizado = False\n",
    "        return len(self.palavra)\n",
    "\n",
    "\n",
    "    def tentar_letra(self, letra):\n",
    "        '''Tentativa de acertar uma das letras da palavra'''\n",
    "        if self.vidas > 0:\n",
    "            if letra in self.palavra:\n",
    "                return [idx for idx in range(len(self.palavra)) if self.palavra[idx]==letra]\n",
    "            else:\n",
    "                self.vidas -= 1\n",
    "                if self.vidas == 0:\n",
    "                    return False\n",
    "                else:\n",
    "                    return []\n",
    "        else:\n",
    "            return False\n",
    "        \n",
    "    def tentar_palavra(self, palavra):\n",
    "        '''Tenta adivinhar a palavra'''\n",
    "        if self.vidas > 0:\n",
    "            if self.palavra == palavra:\n",
    "                return True\n",
    "            else:\n",
    "                self.vidas = 0\n",
    "                return False\n",
    "        else:\n",
    "            self.finalizado = True"
   ]
  },
  {
   "attachments": {},
   "cell_type": "markdown",
   "metadata": {},
   "source": [
    "## Classe Jogador\n",
    "\n",
    "Cria um jogador cujo objetivo é escolher a melhor letra possível para chutar no jogo da Velha"
   ]
  },
  {
   "cell_type": "code",
   "execution_count": 19,
   "metadata": {},
   "outputs": [],
   "source": [
    "class Jogador:\n",
    "\n",
    "    def __init__(self, conteudo) :\n",
    "        self.conteudo = conteudo\n",
    "        \n",
    "    def inicializacao(self, n_letras):\n",
    "        \"\"\" Inicializa um jogo novo \"\"\"\n",
    "        self.n_letras = n_letras\n",
    "        self.letras_descartadas = ''\n",
    "        self.letras_na_palavra = ''\n",
    "        self.possivel_palavra = ['' for _ in range(n_letras)]\n",
    "        self.palavras_possiveis = list(filter(lambda x: (len(x) == self.n_letras) , self.conteudo))\n",
    "    \n",
    "    def lista_palavras(self, resultado, l):\n",
    "        \"\"\"Filtra a lista de palavras de acordo com os chutes anteriores\"\"\"\n",
    "        lista_nova = []\n",
    "        if len(resultado) == 0:\n",
    "            for p in self.palavras_possiveis:\n",
    "                if l not in p:\n",
    "                    lista_nova.append(p)\n",
    "        else:\n",
    "            for p in self.palavras_possiveis:\n",
    "                pin = True\n",
    "                if l in p:\n",
    "                    for i in resultado:\n",
    "                        if p[i] != l:\n",
    "                            pin = False\n",
    "                            break\n",
    "                    if pin:\n",
    "                        lista_nova.append(p)\n",
    "                        \n",
    "        self.palavras_possiveis = lista_nova\n",
    "        \n",
    "        return len(self.palavras_possiveis)\n",
    "    \n",
    "    def letra_mais_frequente(self):\n",
    "        \"\"\"Retorna a letra que mais aparece nas palavras\"\"\"\n",
    "        texto = ''.join(self.palavras_possiveis)\n",
    "        dicio = {}\n",
    "        for c in set(texto):\n",
    "            dicio[c] = texto.count(c)/len(texto)\n",
    "\n",
    "        sortedDict = sorted(dicio.items(), key=lambda x:x[1])\n",
    "        i = len(sortedDict) -1\n",
    "        letra = sortedDict[i][0]\n",
    "        while letra in self.letras_descartadas and i >0 :\n",
    "            i -= 1\n",
    "            letra = sortedDict[i][0]\n",
    "\n",
    "        self.letras_descartadas += letra\n",
    "        \n",
    "        return letra\n",
    "    \n",
    "    def letra_mais_palavras(self, df):\n",
    "        \"\"\"Retorna a letra \"\"\"\n",
    "        filtro = df['palavra'].isin(self.palavras_possiveis)\n",
    "        df = df[filtro]\n",
    "        df_ = df.drop(['palavra'], axis=1)\n",
    "        dicio = {}\n",
    "        for c in df_.columns:\n",
    "            try:\n",
    "                dicio[c] = df_[c].value_counts()[1]/len(df)\n",
    "            except:\n",
    "                dicio[c] = 0\n",
    "\n",
    "\n",
    "        sortedDict = sorted(dicio.items(), key=lambda x:x[1])\n",
    "        i = len(sortedDict) -1\n",
    "        letra = sortedDict[i][0]\n",
    "        while letra in self.letras_descartadas and i >0 :\n",
    "            i -= 1\n",
    "            letra = sortedDict[i][0]\n",
    "\n",
    "        self.letras_descartadas += letra\n",
    "        \n",
    "        return letra\n",
    "    \n",
    "    \n",
    "\n",
    "        "
   ]
  },
  {
   "cell_type": "code",
   "execution_count": 6,
   "metadata": {},
   "outputs": [],
   "source": [
    "class Relatorio:\n",
    "\n",
    "    def __init__(self, n):\n",
    "        self.qtd_vitorias = 0\n",
    "        self.qtd_chutes = 0\n",
    "        self.qtd_acerto_chute = 0\n",
    "        self.palavras_chutadas = []\n",
    "        self.n = n\n",
    "\n",
    "\n",
    "    def tabela(self):\n",
    "        df = pd.DataFrame()\n",
    "        df['vitórias (qtd)'] = [self.qtd_vitorias]\n",
    "        df['chutes (qtd)'] = [self.qtd_chutes]\n",
    "        df['acertos no chute (qtd)'] = [self.qtd_acerto_chute]\n",
    "        df['vitórias (%)'] = [self.qtd_vitorias / self.n]\n",
    "        return df\n",
    "\n",
    "    "
   ]
  },
  {
   "attachments": {},
   "cell_type": "markdown",
   "metadata": {},
   "source": [
    "Função que testa o jogador em `n` jogos com determinada estratégia"
   ]
  },
  {
   "cell_type": "code",
   "execution_count": 35,
   "metadata": {},
   "outputs": [],
   "source": [
    "df_freq = pd.read_csv('frequencia1.csv')\n",
    "\n",
    "\n",
    "def testa_jogada(n_iteracoes, estrategia):\n",
    "    \n",
    "    # verifica se o tipo de estratégia é válido\n",
    "    if estrategia not in ['por_palavra', 'maior_freq']:\n",
    "        return 'estratégia não existente'\n",
    "    \n",
    "    relatorio = Relatorio(n_iteracoes)\n",
    "\n",
    "    jogo = JogoDeForca(conteudo) # cria o jogo\n",
    "    jogador = Jogador(conteudo) # cria o jogador\n",
    "    \n",
    "    for _ in range(n_iteracoes):\n",
    "\n",
    "        # inicializa \n",
    "        n_letras = jogo.novo_jogo()\n",
    "        jogador.inicializacao(n_letras)\n",
    "        \n",
    "        while jogo.vidas > 0:\n",
    "\n",
    "            # escolhe a letra de acordo com a estratégia\n",
    "            if estrategia == 'por_palavra':\n",
    "                l = jogador.letra_mais_palavras(df_freq)\n",
    "            elif estrategia == 'maior_freq':\n",
    "                l = jogador.letra_mais_frequente()\n",
    "\n",
    "            # chuta a letra\n",
    "            resultado = jogo.tentar_letra(l)\n",
    "            \n",
    "            # se o resultado for booleano significa que o jogo acabou \n",
    "            if type(resultado) == bool:\n",
    "                r = resultado\n",
    "                break\n",
    "            else:\n",
    "                # acertou a letra\n",
    "                if len(resultado) != 0:\n",
    "                    jogador.letras_na_palavra += l\n",
    "\n",
    "                # renova a lista de palavras possíveis\n",
    "                total_palavras = jogador.lista_palavras(resultado, l)\n",
    "\n",
    "                # se só tem uma palavra possível\n",
    "                if total_palavras == 1:\n",
    "                    r = jogo.tentar_palavra(jogador.palavras_possiveis[0])\n",
    "                    break\n",
    "\n",
    "                # se é a última vida, o jogador chuta entre as palavras possíveis\n",
    "                if jogo.vidas == 1:\n",
    "                    relatorio.palavras_chutadas.append(jogo.palavra)\n",
    "                    relatorio.qtd_chutes += 1\n",
    "                    r = jogo.tentar_palavra(random.choice(jogador.palavras_possiveis))\n",
    "                    if r: \n",
    "                        relatorio.qtd_acerto_chute += 1\n",
    "                    break\n",
    "        \n",
    "        if r :\n",
    "            relatorio.qtd_vitorias +=1\n",
    "\n",
    "    return relatorio\n"
   ]
  },
  {
   "attachments": {},
   "cell_type": "markdown",
   "metadata": {},
   "source": [
    "estratégia de letra que aparece em mais palavras"
   ]
  },
  {
   "cell_type": "code",
   "execution_count": 21,
   "metadata": {},
   "outputs": [
    {
     "data": {
      "text/html": [
       "<div>\n",
       "<style scoped>\n",
       "    .dataframe tbody tr th:only-of-type {\n",
       "        vertical-align: middle;\n",
       "    }\n",
       "\n",
       "    .dataframe tbody tr th {\n",
       "        vertical-align: top;\n",
       "    }\n",
       "\n",
       "    .dataframe thead th {\n",
       "        text-align: right;\n",
       "    }\n",
       "</style>\n",
       "<table border=\"1\" class=\"dataframe\">\n",
       "  <thead>\n",
       "    <tr style=\"text-align: right;\">\n",
       "      <th></th>\n",
       "      <th>vitórias (qtd)</th>\n",
       "      <th>chutes (qtd)</th>\n",
       "      <th>acertos no chute (qtd)</th>\n",
       "      <th>vitórias (%)</th>\n",
       "    </tr>\n",
       "  </thead>\n",
       "  <tbody>\n",
       "    <tr>\n",
       "      <th>0</th>\n",
       "      <td>93</td>\n",
       "      <td>10</td>\n",
       "      <td>3</td>\n",
       "      <td>0.93</td>\n",
       "    </tr>\n",
       "  </tbody>\n",
       "</table>\n",
       "</div>"
      ],
      "text/plain": [
       "   vitórias (qtd)  chutes (qtd)  acertos no chute (qtd)  vitórias (%)\n",
       "0              93            10                       3          0.93"
      ]
     },
     "execution_count": 21,
     "metadata": {},
     "output_type": "execute_result"
    }
   ],
   "source": [
    "relatorio1 = testa_jogada(100, 'por_palavra')\n",
    "df1 = relatorio1.tabela()\n",
    "df1.head()"
   ]
  },
  {
   "attachments": {},
   "cell_type": "markdown",
   "metadata": {},
   "source": [
    "estratégia de letra que mais aparece nas palavras"
   ]
  },
  {
   "cell_type": "code",
   "execution_count": 22,
   "metadata": {},
   "outputs": [
    {
     "data": {
      "text/html": [
       "<div>\n",
       "<style scoped>\n",
       "    .dataframe tbody tr th:only-of-type {\n",
       "        vertical-align: middle;\n",
       "    }\n",
       "\n",
       "    .dataframe tbody tr th {\n",
       "        vertical-align: top;\n",
       "    }\n",
       "\n",
       "    .dataframe thead th {\n",
       "        text-align: right;\n",
       "    }\n",
       "</style>\n",
       "<table border=\"1\" class=\"dataframe\">\n",
       "  <thead>\n",
       "    <tr style=\"text-align: right;\">\n",
       "      <th></th>\n",
       "      <th>vitórias (qtd)</th>\n",
       "      <th>chutes (qtd)</th>\n",
       "      <th>acertos no chute (qtd)</th>\n",
       "      <th>vitórias (%)</th>\n",
       "    </tr>\n",
       "  </thead>\n",
       "  <tbody>\n",
       "    <tr>\n",
       "      <th>0</th>\n",
       "      <td>95</td>\n",
       "      <td>6</td>\n",
       "      <td>1</td>\n",
       "      <td>0.95</td>\n",
       "    </tr>\n",
       "  </tbody>\n",
       "</table>\n",
       "</div>"
      ],
      "text/plain": [
       "   vitórias (qtd)  chutes (qtd)  acertos no chute (qtd)  vitórias (%)\n",
       "0              95             6                       1          0.95"
      ]
     },
     "execution_count": 22,
     "metadata": {},
     "output_type": "execute_result"
    }
   ],
   "source": [
    "relatorio2 = testa_jogada(100, 'maior_freq')\n",
    "df2 = relatorio2.tabela()\n",
    "df2.head()"
   ]
  },
  {
   "attachments": {},
   "cell_type": "markdown",
   "metadata": {},
   "source": [
    "# Análise dos erros"
   ]
  },
  {
   "cell_type": "code",
   "execution_count": 23,
   "metadata": {},
   "outputs": [],
   "source": [
    "relatorio_erros1 = testa_jogada(1000, 'por_palavra')\n",
    "relatorio_erros2 = testa_jogada(1000, 'maior_freq')"
   ]
  },
  {
   "cell_type": "code",
   "execution_count": 24,
   "metadata": {},
   "outputs": [],
   "source": [
    "erros = []\n",
    "erros += relatorio_erros1.palavras_chutadas\n",
    "erros += relatorio_erros2.palavras_chutadas"
   ]
  },
  {
   "cell_type": "code",
   "execution_count": 94,
   "metadata": {},
   "outputs": [
    {
     "data": {
      "image/png": "[encoded data removed]",
      "text/plain": [
       "<Figure size 1000x500 with 1 Axes>"
      ]
     },
     "metadata": {},
     "output_type": "display_data"
    }
   ],
   "source": [
    "qtd_letras_geral = [len(p) for p in conteudo]\n",
    "a = pd.Series(qtd_letras_geral)\n",
    "b = a.value_counts()\n",
    "\n",
    "plt.figure(figsize=(10,5))\n",
    "plt.bar(b.index, b.values)\n",
    "plt.xlabel('Quantidade de letras')\n",
    "plt.ylabel('Quantidade de palavras')\n",
    "plt.title('Palavras por tamanho')\n",
    "plt.show()\n"
   ]
  },
  {
   "cell_type": "code",
   "execution_count": 47,
   "metadata": {},
   "outputs": [
    {
     "data": {
      "image/png": "[encoded data removed]",
      "text/plain": [
       "<Figure size 1000x500 with 1 Axes>"
      ]
     },
     "metadata": {},
     "output_type": "display_data"
    }
   ],
   "source": [
    "qtd_letras = [len(p) for p in erros]\n",
    "m = pd.Series(qtd_letras)\n",
    "n = m.value_counts()\n",
    "\n",
    "plt.figure(figsize=(10,5))\n",
    "plt.bar(n.index, n.values)\n",
    "plt.ylabel('Quantidade de erros')\n",
    "plt.xlabel('Quantidade de letras na palavra')\n",
    "plt.show()\n"
   ]
  },
  {
   "attachments": {},
   "cell_type": "markdown",
   "metadata": {},
   "source": [
    "Vamos analisar algumas das palavras de 7 letras, já que essa quantidade é a que mais resultou em erros do nosso jogador!"
   ]
  },
  {
   "cell_type": "code",
   "execution_count": 77,
   "metadata": {},
   "outputs": [],
   "source": [
    "palavras_7 = []\n",
    "n = 0\n",
    "\n",
    "for i in range(len(qtd_letras)):\n",
    "    if n == 7:\n",
    "        break\n",
    "    if qtd_letras[i] == 7:\n",
    "        palavras_7.append(erros[i])\n",
    "        n += 1\n",
    "    "
   ]
  },
  {
   "cell_type": "code",
   "execution_count": 103,
   "metadata": {},
   "outputs": [],
   "source": [
    "df_freq = pd.read_csv('frequencia1.csv')\n",
    "\n",
    "jogo = JogoDeForca(conteudo) # cria o jogo\n",
    "jogador = Jogador(conteudo) # cria o jogador\n",
    "qtd_palavras_no_final = []\n",
    "\n",
    "df_erros = pd.DataFrame()\n",
    "df_erros['palavra'] = []\n",
    "df_erros['letras chutadas'] = []\n",
    "df_erros['conhecimento da palavra'] = []\n",
    "df_erros['qtd palavras restantes'] = []\n",
    "df_erros['palavras restantes'] = []\n",
    "\n",
    "\n",
    "for p in range(len(palavras_7)):\n",
    "    # inicializa \n",
    "    n_letras = jogo.novo_jogo()\n",
    "    jogo.palavra = palavras_7[p]\n",
    "    n_letras = 7\n",
    "    jogador.inicializacao(n_letras)\n",
    "    conhecimento = ['' for i in range(7)]\n",
    "\n",
    "    while jogo.vidas > 0:\n",
    "\n",
    "        # escolhe a letra de acordo com a estratégia\n",
    "        l = jogador.letra_mais_frequente()\n",
    "        \n",
    "\n",
    "        # chuta a letra\n",
    "        resultado = jogo.tentar_letra(l)\n",
    "            \n",
    "        # se o resultado for booleano significa que o jogo acabou \n",
    "        if type(resultado) == bool:\n",
    "            r = resultado\n",
    "            break\n",
    "        else:\n",
    "            # acertou a letra\n",
    "            if len(resultado) != 0:\n",
    "                jogador.letras_na_palavra += l\n",
    "                for i in resultado:\n",
    "                    conhecimento[i] = l\n",
    "\n",
    "\n",
    "            # renova a lista de palavras possíveis\n",
    "            total_palavras = jogador.lista_palavras(resultado, l)\n",
    "\n",
    "            # se só tem uma palavra possível\n",
    "            if total_palavras == 1:\n",
    "                print('acertou!')\n",
    "                r = jogo.tentar_palavra(jogador.palavras_possiveis[0])\n",
    "                break\n",
    "\n",
    "            # se é a última vida, o jogador chuta entre as palavras possíveis\n",
    "            if jogo.vidas == 1:\n",
    "                df_erros.loc[p] = [jogo.palavra, jogador.letras_descartadas, conhecimento, len(jogador.palavras_possiveis),jogador.palavras_possiveis]\n",
    "                qtd_palavras_no_final.append(len(jogador.palavras_possiveis))\n",
    "                r = jogo.tentar_palavra(random.choice(jogador.palavras_possiveis))\n",
    "                break\n"
   ]
  },
  {
   "cell_type": "code",
   "execution_count": 104,
   "metadata": {},
   "outputs": [
    {
     "name": "stdout",
     "output_type": "stream",
     "text": [
      "Quantidade de palavras com 7 letras: 20548\n"
     ]
    },
    {
     "data": {
      "text/html": [
       "<div>\n",
       "<style scoped>\n",
       "    .dataframe tbody tr th:only-of-type {\n",
       "        vertical-align: middle;\n",
       "    }\n",
       "\n",
       "    .dataframe tbody tr th {\n",
       "        vertical-align: top;\n",
       "    }\n",
       "\n",
       "    .dataframe thead th {\n",
       "        text-align: right;\n",
       "    }\n",
       "</style>\n",
       "<table border=\"1\" class=\"dataframe\">\n",
       "  <thead>\n",
       "    <tr style=\"text-align: right;\">\n",
       "      <th></th>\n",
       "      <th>palavra</th>\n",
       "      <th>letras chutadas</th>\n",
       "      <th>conhecimento da palavra</th>\n",
       "      <th>qtd palavras restantes</th>\n",
       "      <th>palavras restantes</th>\n",
       "    </tr>\n",
       "  </thead>\n",
       "  <tbody>\n",
       "    <tr>\n",
       "      <th>0</th>\n",
       "      <td>caiarao</td>\n",
       "      <td>asrmoclv</td>\n",
       "      <td>[c, a, , a, r, a, o]</td>\n",
       "      <td>5</td>\n",
       "      <td>[cacarao, cagarao, caiarao, caparao, catarao]</td>\n",
       "    </tr>\n",
       "    <tr>\n",
       "      <th>1</th>\n",
       "      <td>jornais</td>\n",
       "      <td>aormdsitc</td>\n",
       "      <td>[, o, r, , a, i, s]</td>\n",
       "      <td>7</td>\n",
       "      <td>[boreais, borrais, forjais, forrais, jornais, ...</td>\n",
       "    </tr>\n",
       "    <tr>\n",
       "      <th>2</th>\n",
       "      <td>ofendeu</td>\n",
       "      <td>aesri</td>\n",
       "      <td>[, , e, , , e, ]</td>\n",
       "      <td>8</td>\n",
       "      <td>[cheguem, chequem, efetuem, emendem, enevoem, ...</td>\n",
       "    </tr>\n",
       "    <tr>\n",
       "      <th>3</th>\n",
       "      <td>coalham</td>\n",
       "      <td>arismlt</td>\n",
       "      <td>[, , a, l, , a, m]</td>\n",
       "      <td>3</td>\n",
       "      <td>[acalmam, apalpam, coalham]</td>\n",
       "    </tr>\n",
       "    <tr>\n",
       "      <th>4</th>\n",
       "      <td>alvejam</td>\n",
       "      <td>arismn</td>\n",
       "      <td>[a, , , , , a, m]</td>\n",
       "      <td>32</td>\n",
       "      <td>[abotoam, acalmam, acampam, achavam, achegam, ...</td>\n",
       "    </tr>\n",
       "  </tbody>\n",
       "</table>\n",
       "</div>"
      ],
      "text/plain": [
       "   palavra letras chutadas conhecimento da palavra  qtd palavras restantes   \n",
       "0  caiarao        asrmoclv    [c, a, , a, r, a, o]                       5  \\\n",
       "1  jornais       aormdsitc     [, o, r, , a, i, s]                       7   \n",
       "2  ofendeu           aesri        [, , e, , , e, ]                       8   \n",
       "3  coalham         arismlt      [, , a, l, , a, m]                       3   \n",
       "4  alvejam          arismn       [a, , , , , a, m]                      32   \n",
       "\n",
       "                                  palavras restantes  \n",
       "0      [cacarao, cagarao, caiarao, caparao, catarao]  \n",
       "1  [boreais, borrais, forjais, forrais, jornais, ...  \n",
       "2  [cheguem, chequem, efetuem, emendem, enevoem, ...  \n",
       "3                        [acalmam, apalpam, coalham]  \n",
       "4  [abotoam, acalmam, acampam, achavam, achegam, ...  "
      ]
     },
     "execution_count": 104,
     "metadata": {},
     "output_type": "execute_result"
    }
   ],
   "source": [
    "print(f'Quantidade de palavras com 7 letras: {qtd_letras_geral.count(7)}')\n",
    "\n",
    "df_erros.head()"
   ]
  },
  {
   "attachments": {},
   "cell_type": "markdown",
   "metadata": {},
   "source": [
    "Apartir desses dados pode-se afirmar que apesar do jogador ter diminuido drasticamente o número de palavras possíveis, no final de suas vidas ele ainda não tinha informação o suficiente para acertar a palavra. \n",
    "\n",
    "Isso acontece, pois existem palavras nesse vocabulário que possuem um grande número de letras não apenas em comum, como também posicionadas na mesma posição como é o caso de \"caiarao\" e cacarao, cagarao, caiarao, caparao, catarao. Esse semelhança entre as palavras impede que a palavra seja descoberta com um número tão limitado de vidas (5).\n"
   ]
  }
 ],
 "metadata": {
  "kernelspec": {
   "display_name": "env_alglin",
   "language": "python",
   "name": "python3"
  },
  "language_info": {
   "codemirror_mode": {
    "name": "ipython",
    "version": 3
   },
   "file_extension": ".py",
   "mimetype": "text/x-python",
   "name": "python",
   "nbconvert_exporter": "python",
   "pygments_lexer": "ipython3",
   "version": "3.10.2"
  },
  "orig_nbformat": 4
 },
 "nbformat": 4,
 "nbformat_minor": 2
}
