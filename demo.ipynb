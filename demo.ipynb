{
 "cells": [
  {
   "cell_type": "code",
   "execution_count": 117,
   "metadata": {},
   "outputs": [],
   "source": [
    "# Importando bibliotecas #\n",
    "import random\n",
    "import pandas as pd\n",
    "from sklearn.tree import DecisionTreeClassifier\n",
    "import matplotlib.pyplot as plt"
   ]
  },
  {
   "attachments": {},
   "cell_type": "markdown",
   "metadata": {},
   "source": [
    "carregando arquivo com as palavras que serão utilizadas no jogo"
   ]
  },
  {
   "cell_type": "code",
   "execution_count": 79,
   "metadata": {},
   "outputs": [],
   "source": [
    "with open('br-sem-acentos.txt', 'r') as arquivo:\n",
    "    r = arquivo.read()\n",
    "    conteudo = str(r).lower().split('\\n')"
   ]
  },
  {
   "attachments": {},
   "cell_type": "markdown",
   "metadata": {},
   "source": [
    "## Classe JogoDeForca \n",
    "A classe cria um jogo de forca no qual sorteia a palavra que deverá ser adivinhada e permite o jogador chutar letras, caso o jogador erre uma letra ele perde uma vida. O jogador pode adivinhar a palavra apenas uma vez, se ele acertar, ele ganha, caso contrário ele perde. Zerar as suas vidas também resulta na derrota"
   ]
  },
  {
   "cell_type": "code",
   "execution_count": 80,
   "metadata": {},
   "outputs": [],
   "source": [
    "class JogoDeForca:\n",
    "    def __init__(self, conteudo):\n",
    "        '''Carrega o txt de palavras'''\n",
    "        self.content = conteudo\n",
    "        \n",
    "    \n",
    "    def novo_jogo(self, vidas=5):\n",
    "        '''Novo jogo com uma palavra aleatória e 5 vidas (padrão)'''\n",
    "        self.vidas = vidas\n",
    "        self.palavra = random.choice(self.content)\n",
    "        self.finalizado = False\n",
    "        return len(self.palavra)\n",
    "\n",
    "\n",
    "    def tentar_letra(self, letra):\n",
    "        '''Tentativa de acertar uma das letras da palavra'''\n",
    "        if self.vidas > 0:\n",
    "            if letra in self.palavra:\n",
    "                return [idx for idx in range(len(self.palavra)) if self.palavra[idx]==letra]\n",
    "            else:\n",
    "                self.vidas -= 1\n",
    "                if self.vidas == 0:\n",
    "                    return False\n",
    "                else:\n",
    "                    return []\n",
    "        else:\n",
    "            return False\n",
    "        \n",
    "    def tentar_palavra(self, palavra):\n",
    "        '''Tenta adivinhar a palavra'''\n",
    "        if self.vidas > 0:\n",
    "            if self.palavra == palavra:\n",
    "                return True\n",
    "            else:\n",
    "                self.vidas = 0\n",
    "                return False\n",
    "        else:\n",
    "            self.finalizado = True"
   ]
  },
  {
   "attachments": {},
   "cell_type": "markdown",
   "metadata": {},
   "source": [
    "## Classe Jogador\n",
    "\n",
    "Cria um jogador cujo objetivo é escolher a melhor letra possível para chutar no jogo da Velha"
   ]
  },
  {
   "cell_type": "code",
   "execution_count": 81,
   "metadata": {},
   "outputs": [],
   "source": [
    "class Jogador:\n",
    "\n",
    "    def __init__(self, conteudo) :\n",
    "        self.conteudo = conteudo\n",
    "        \n",
    "    def inicializacao(self, n_letras):\n",
    "        \"\"\" Inicializa um jogo novo \"\"\"\n",
    "        self.n_letras = n_letras\n",
    "        self.letras_descartadas = ''\n",
    "        self.letras_na_palavra = ''\n",
    "        self.possivel_palavra = ['' for _ in range(n_letras)]\n",
    "        self.palavras_possiveis = list(filter(lambda x: (len(x) == self.n_letras) , self.conteudo))\n",
    "    \n",
    "    def lista_palavras(self, resultado, l):\n",
    "        \"\"\"Filtra a lista de palavras de acordo com os chutes anteriores\"\"\"\n",
    "        lista_nova = []\n",
    "        if len(resultado) == 0:\n",
    "            for p in self.palavras_possiveis:\n",
    "                if l not in p:\n",
    "                    lista_nova.append(p)\n",
    "        else:\n",
    "            for p in self.palavras_possiveis:\n",
    "                pin = True\n",
    "                for i in resultado:\n",
    "                    if p[i] != l:\n",
    "                        pin = False\n",
    "                        break\n",
    "                if pin:\n",
    "                    lista_nova.append(p)\n",
    "        self.palavras_possiveis = lista_nova\n",
    "        \n",
    "        return len(self.palavras_possiveis)\n",
    "    \n",
    "    def letra_mais_frequente(self):\n",
    "        \"\"\"Retorna a letra que mais aparece nas palavras\"\"\"\n",
    "        texto = ''.join(self.palavras_possiveis)\n",
    "        dicio = {}\n",
    "        for c in set(texto):\n",
    "            dicio[c] = texto.count(c)/len(texto)\n",
    "\n",
    "        sortedDict = sorted(dicio.items(), key=lambda x:x[1])\n",
    "        i = len(sortedDict) -1\n",
    "        letra = sortedDict[i][0]\n",
    "        while letra in self.letras_descartadas and i >0 :\n",
    "            i -= 1\n",
    "            letra = sortedDict[i][0]\n",
    "\n",
    "        self.letras_descartadas += letra\n",
    "        \n",
    "        return letra\n",
    "    \n",
    "    def letra_mais_palavras(self, df):\n",
    "        \"\"\"Retorna a letra \"\"\"\n",
    "        filtro = df['palavra'].isin(self.palavras_possiveis)\n",
    "        df = df[filtro]\n",
    "        df = df.drop(['palavra'], axis=1)\n",
    "        dicio = {}\n",
    "        for c in df.columns:\n",
    "            try:\n",
    "                dicio[c] = df[c].value_counts()[1]/len(df)\n",
    "            except:\n",
    "                dicio[c] = 0\n",
    "\n",
    "\n",
    "        sortedDict = sorted(dicio.items(), key=lambda x:x[1])\n",
    "        i = len(sortedDict) -1\n",
    "        letra = sortedDict[i][0]\n",
    "        while letra in self.letras_descartadas and i >0 :\n",
    "            i -= 1\n",
    "            letra = sortedDict[i][0]\n",
    "\n",
    "        self.letras_descartadas += letra\n",
    "        \n",
    "        return letra\n",
    "    \n",
    "    \n",
    "\n",
    "        "
   ]
  },
  {
   "cell_type": "code",
   "execution_count": 82,
   "metadata": {},
   "outputs": [],
   "source": [
    "class Relatorio:\n",
    "\n",
    "    def __init__(self, n):\n",
    "        self.qtd_vitorias = 0\n",
    "        self.qtd_chutes = 0\n",
    "        self.qtd_acerto_chute = 0\n",
    "        self.palavras_chutadas = []\n",
    "        self.n = n\n",
    "\n",
    "\n",
    "    def tabela(self):\n",
    "        df = pd.DataFrame()\n",
    "        df['vitórias (qtd)'] = [self.qtd_vitorias]\n",
    "        df['chutes (qtd)'] = [self.qtd_chutes]\n",
    "        df['acertos no chute (qtd)'] = [self.qtd_acerto_chute]\n",
    "        df['vitórias (%)'] = [self.qtd_vitorias / self.n]\n",
    "        return df\n",
    "\n",
    "    "
   ]
  },
  {
   "attachments": {},
   "cell_type": "markdown",
   "metadata": {},
   "source": [
    "Função que testa o jogador em `n` jogos com determinada estratégia"
   ]
  },
  {
   "cell_type": "code",
   "execution_count": 85,
   "metadata": {},
   "outputs": [],
   "source": [
    "df_freq = pd.read_csv('frequencia1.csv')\n",
    "\n",
    "\n",
    "def testa_jogada(n_iteracoes, estrategia):\n",
    "    \n",
    "    # verifica se o tipo de estratégia é válido\n",
    "    if estrategia not in ['por_palavra', 'maior_freq']:\n",
    "        return 'estratégia não existente'\n",
    "    \n",
    "    relatorio = Relatorio(n_iteracoes)\n",
    "\n",
    "    jogo = JogoDeForca(conteudo) # cria o jogo\n",
    "    jogador = Jogador(conteudo) # cria o jogador\n",
    "    \n",
    "    for _ in range(n_iteracoes):\n",
    "\n",
    "        # inicializa \n",
    "        n_letras = jogo.novo_jogo()\n",
    "        jogador.inicializacao(n_letras)\n",
    "        \n",
    "        while jogo.vidas > 0:\n",
    "\n",
    "            # escolhe a letra de acordo com a estratégia\n",
    "            if estrategia == 'por_palavra':\n",
    "                l = jogador.letra_mais_palavras(df_freq)\n",
    "            elif estrategia == 'maior_freq':\n",
    "                l = jogador.letra_mais_frequente()\n",
    "\n",
    "            # chuta a letra\n",
    "            resultado = jogo.tentar_letra(l)\n",
    "            \n",
    "            # se o resultado for booleano significa que o jogo acabou \n",
    "            if type(resultado) == bool:\n",
    "                r = resultado\n",
    "                break\n",
    "            else:\n",
    "                # acertou a letra\n",
    "                if len(resultado) != 0:\n",
    "                    jogador.letras_na_palavra += l\n",
    "\n",
    "                # renova a lista de palavras possíveis\n",
    "                total_palavras = jogador.lista_palavras(resultado, l)\n",
    "\n",
    "                # se só tem uma palavra possível\n",
    "                if total_palavras == 1:\n",
    "                    r = jogo.tentar_palavra(jogador.palavras_possiveis[0])\n",
    "                    break\n",
    "\n",
    "                # se é a última vida, o jogador chuta entre as palavras possíveis\n",
    "                if jogo.vidas == 1:\n",
    "                    relatorio.palavras_chutadas.append(jogo.palavra)\n",
    "                    relatorio.qtd_chutes += 1\n",
    "                    r = jogo.tentar_palavra(random.choice(jogador.palavras_possiveis))\n",
    "                    if r: \n",
    "                        relatorio.qtd_acerto_chute += 1\n",
    "                    break\n",
    "        \n",
    "        if r :\n",
    "            relatorio.qtd_vitorias +=1\n",
    "\n",
    "    return relatorio\n"
   ]
  },
  {
   "attachments": {},
   "cell_type": "markdown",
   "metadata": {},
   "source": [
    "estratégia de letra que aparece em mais palavras"
   ]
  },
  {
   "cell_type": "code",
   "execution_count": 86,
   "metadata": {},
   "outputs": [
    {
     "data": {
      "text/html": [
       "<div>\n",
       "<style scoped>\n",
       "    .dataframe tbody tr th:only-of-type {\n",
       "        vertical-align: middle;\n",
       "    }\n",
       "\n",
       "    .dataframe tbody tr th {\n",
       "        vertical-align: top;\n",
       "    }\n",
       "\n",
       "    .dataframe thead th {\n",
       "        text-align: right;\n",
       "    }\n",
       "</style>\n",
       "<table border=\"1\" class=\"dataframe\">\n",
       "  <thead>\n",
       "    <tr style=\"text-align: right;\">\n",
       "      <th></th>\n",
       "      <th>vitórias (qtd)</th>\n",
       "      <th>chutes (qtd)</th>\n",
       "      <th>acertos no chute (qtd)</th>\n",
       "      <th>vitórias (%)</th>\n",
       "    </tr>\n",
       "  </thead>\n",
       "  <tbody>\n",
       "    <tr>\n",
       "      <th>0</th>\n",
       "      <td>96</td>\n",
       "      <td>4</td>\n",
       "      <td>0</td>\n",
       "      <td>0.96</td>\n",
       "    </tr>\n",
       "  </tbody>\n",
       "</table>\n",
       "</div>"
      ],
      "text/plain": [
       "   vitórias (qtd)  chutes (qtd)  acertos no chute (qtd)  vitórias (%)\n",
       "0              96             4                       0          0.96"
      ]
     },
     "execution_count": 86,
     "metadata": {},
     "output_type": "execute_result"
    }
   ],
   "source": [
    "relatorio1 = testa_jogada(100, 'por_palavra')\n",
    "df = relatorio1.tabela()\n",
    "df.head()"
   ]
  },
  {
   "attachments": {},
   "cell_type": "markdown",
   "metadata": {},
   "source": [
    "estratégia de letra que mais aparece nas palavras"
   ]
  },
  {
   "cell_type": "code",
   "execution_count": null,
   "metadata": {},
   "outputs": [
    {
     "data": {
      "text/html": [
       "<div>\n",
       "<style scoped>\n",
       "    .dataframe tbody tr th:only-of-type {\n",
       "        vertical-align: middle;\n",
       "    }\n",
       "\n",
       "    .dataframe tbody tr th {\n",
       "        vertical-align: top;\n",
       "    }\n",
       "\n",
       "    .dataframe thead th {\n",
       "        text-align: right;\n",
       "    }\n",
       "</style>\n",
       "<table border=\"1\" class=\"dataframe\">\n",
       "  <thead>\n",
       "    <tr style=\"text-align: right;\">\n",
       "      <th></th>\n",
       "      <th>vitórias (qtd)</th>\n",
       "      <th>chutes (qtd)</th>\n",
       "      <th>acertos no chute (qtd)</th>\n",
       "      <th>vitórias (%)</th>\n",
       "    </tr>\n",
       "  </thead>\n",
       "  <tbody>\n",
       "    <tr>\n",
       "      <th>0</th>\n",
       "      <td>96</td>\n",
       "      <td>7</td>\n",
       "      <td>3</td>\n",
       "      <td>0.96</td>\n",
       "    </tr>\n",
       "  </tbody>\n",
       "</table>\n",
       "</div>"
      ],
      "text/plain": [
       "   vitórias (qtd)  chutes (qtd)  acertos no chute (qtd)  vitórias (%)\n",
       "0              96             7                       3          0.96"
      ]
     },
     "execution_count": 70,
     "metadata": {},
     "output_type": "execute_result"
    }
   ],
   "source": [
    "relatorio2 = testa_jogada(100, 'maior_freq')\n",
    "df_ = relatorio2.tabela()\n",
    "df_.head()"
   ]
  },
  {
   "attachments": {},
   "cell_type": "markdown",
   "metadata": {},
   "source": [
    "# Analisando erros"
   ]
  },
  {
   "cell_type": "code",
   "execution_count": 141,
   "metadata": {},
   "outputs": [
    {
     "ename": "KeyboardInterrupt",
     "evalue": "",
     "output_type": "error",
     "traceback": [
      "\u001b[1;31m---------------------------------------------------------------------------\u001b[0m",
      "\u001b[1;31mKeyboardInterrupt\u001b[0m                         Traceback (most recent call last)",
      "Cell \u001b[1;32mIn[141], line 2\u001b[0m\n\u001b[0;32m      1\u001b[0m relatorio_erros2 \u001b[39m=\u001b[39m testa_jogada(\u001b[39m250\u001b[39m, \u001b[39m'\u001b[39m\u001b[39mpor_palavra\u001b[39m\u001b[39m'\u001b[39m)\n\u001b[1;32m----> 2\u001b[0m relatorio_erros1 \u001b[39m=\u001b[39m testa_jogada(\u001b[39m250\u001b[39;49m, \u001b[39m'\u001b[39;49m\u001b[39mmaior_freq\u001b[39;49m\u001b[39m'\u001b[39;49m)\n",
      "Cell \u001b[1;32mIn[85], line 42\u001b[0m, in \u001b[0;36mtesta_jogada\u001b[1;34m(n_iteracoes, estrategia)\u001b[0m\n\u001b[0;32m     39\u001b[0m     jogador\u001b[39m.\u001b[39mletras_na_palavra \u001b[39m+\u001b[39m\u001b[39m=\u001b[39m l\n\u001b[0;32m     41\u001b[0m \u001b[39m# renova a lista de palavras possíveis\u001b[39;00m\n\u001b[1;32m---> 42\u001b[0m total_palavras \u001b[39m=\u001b[39m jogador\u001b[39m.\u001b[39;49mlista_palavras(resultado, l)\n\u001b[0;32m     44\u001b[0m \u001b[39m# se só tem uma palavra possível\u001b[39;00m\n\u001b[0;32m     45\u001b[0m \u001b[39mif\u001b[39;00m total_palavras \u001b[39m==\u001b[39m \u001b[39m1\u001b[39m:\n",
      "Cell \u001b[1;32mIn[81], line 17\u001b[0m, in \u001b[0;36mJogador.lista_palavras\u001b[1;34m(self, resultado, l)\u001b[0m\n\u001b[0;32m     15\u001b[0m \u001b[39m\u001b[39m\u001b[39m\"\"\"Filtra a lista de palavras de acordo com os chutes anteriores\"\"\"\u001b[39;00m\n\u001b[0;32m     16\u001b[0m lista_nova \u001b[39m=\u001b[39m []\n\u001b[1;32m---> 17\u001b[0m \u001b[39mif\u001b[39;00m \u001b[39mlen\u001b[39;49m(resultado) \u001b[39m==\u001b[39m \u001b[39m0\u001b[39m:\n\u001b[0;32m     18\u001b[0m     \u001b[39mfor\u001b[39;00m p \u001b[39min\u001b[39;00m \u001b[39mself\u001b[39m\u001b[39m.\u001b[39mpalavras_possiveis:\n\u001b[0;32m     19\u001b[0m         \u001b[39mif\u001b[39;00m l \u001b[39mnot\u001b[39;00m \u001b[39min\u001b[39;00m p:\n",
      "\u001b[1;31mKeyboardInterrupt\u001b[0m: "
     ]
    }
   ],
   "source": [
    "relatorio_erros2 = testa_jogada(250, 'por_palavra')\n",
    "relatorio_erros1 = testa_jogada(250, 'maior_freq')"
   ]
  },
  {
   "cell_type": "code",
   "execution_count": 142,
   "metadata": {},
   "outputs": [],
   "source": [
    "erros = []\n",
    "erros += relatorio_erros1.palavras_chutadas\n",
    "erros += relatorio_erros2.palavras_chutadas"
   ]
  },
  {
   "cell_type": "code",
   "execution_count": 143,
   "metadata": {},
   "outputs": [
    {
     "data": {
      "image/png": "[encoded data removed]",
      "text/plain": [
       "<Figure size 1000x500 with 1 Axes>"
      ]
     },
     "metadata": {},
     "output_type": "display_data"
    }
   ],
   "source": [
    "qtd_letras = [len(p) for p in conteudo]\n",
    "a = pd.Series(qtd_letras)\n",
    "b = a.value_counts()\n",
    "\n",
    "plt.figure(figsize=(10,5))\n",
    "plt.bar(b.index, b.values)\n",
    "plt.title('Quantidade de erros')\n",
    "plt.show()\n"
   ]
  },
  {
   "cell_type": "code",
   "execution_count": 145,
   "metadata": {},
   "outputs": [
    {
     "data": {
      "image/png": "[encoded data removed]",
      "text/plain": [
       "<Figure size 1000x500 with 1 Axes>"
      ]
     },
     "metadata": {},
     "output_type": "display_data"
    }
   ],
   "source": [
    "qtd_letras = [len(p) for p in erros]\n",
    "m = pd.Series(qtd_letras)\n",
    "n = m.value_counts()\n",
    "\n",
    "plt.figure(figsize=(10,5))\n",
    "plt.bar(n.index, n.values)\n",
    "plt.title('Quantidade de erros')\n",
    "plt.show()\n"
   ]
  }
 ],
 "metadata": {
  "kernelspec": {
   "display_name": "env_alglin",
   "language": "python",
   "name": "python3"
  },
  "language_info": {
   "codemirror_mode": {
    "name": "ipython",
    "version": 3
   },
   "file_extension": ".py",
   "mimetype": "text/x-python",
   "name": "python",
   "nbconvert_exporter": "python",
   "pygments_lexer": "ipython3",
   "version": "3.10.2"
  },
  "orig_nbformat": 4
 },
 "nbformat": 4,
 "nbformat_minor": 2
}
